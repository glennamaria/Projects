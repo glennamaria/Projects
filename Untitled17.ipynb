{
  "nbformat": 4,
  "nbformat_minor": 0,
  "metadata": {
    "colab": {
      "provenance": [],
      "mount_file_id": "1dJP3dReV63tKCji0gHNWS5Bdz8smKkZX",
      "authorship_tag": "ABX9TyNfGdFI/fY49PN+0ba7vkMe",
      "include_colab_link": true
    },
    "kernelspec": {
      "name": "python3",
      "display_name": "Python 3"
    },
    "language_info": {
      "name": "python"
    }
  },
  "cells": [
    {
      "cell_type": "markdown",
      "metadata": {
        "id": "view-in-github",
        "colab_type": "text"
      },
      "source": [
        "<a href=\"https://colab.research.google.com/github/glennamaria/task1/blob/main/Untitled17.ipynb\" target=\"_parent\"><img src=\"https://colab.research.google.com/assets/colab-badge.svg\" alt=\"Open In Colab\"/></a>"
      ]
    },
    {
      "cell_type": "code",
      "execution_count": 121,
      "metadata": {
        "id": "1CnSS2LGPM6i"
      },
      "outputs": [],
      "source": [
        "import pandas as pd\n",
        "import numpy as np\n",
        "import matplotlib.pyplot as plt\n",
        "import seaborn as sns\n",
        "import pandas.util.testing as tm"
      ]
    },
    {
      "cell_type": "code",
      "source": [
        "from google.colab import drive\n",
        "drive.mount('/content/drive')"
      ],
      "metadata": {
        "colab": {
          "base_uri": "https://localhost:8080/"
        },
        "id": "kUhJuehKPcpB",
        "outputId": "a504a14e-a1d3-4d93-98e0-68aa37188864"
      },
      "execution_count": 122,
      "outputs": [
        {
          "output_type": "stream",
          "name": "stdout",
          "text": [
            "Drive already mounted at /content/drive; to attempt to forcibly remount, call drive.mount(\"/content/drive\", force_remount=True).\n"
          ]
        }
      ]
    },
    {
      "cell_type": "code",
      "source": [
        "path=\"/content/drive/MyDrive/SPSS-KAP-1-_1_.csv\"\n",
        "df= pd.read_csv(path)\n",
        "df"
      ],
      "metadata": {
        "colab": {
          "base_uri": "https://localhost:8080/",
          "height": 423
        },
        "id": "roD47YgBP772",
        "outputId": "172c7ccf-3c25-4d25-f42d-af7bfda6a099"
      },
      "execution_count": 123,
      "outputs": [
        {
          "output_type": "execute_result",
          "data": {
            "text/plain": [
              "         Age in years     Gender Socio economic status  \\\n",
              "0     (upto 30 years)    a) Male          Upper middle   \n",
              "1        (30-45years)    a) Male          Lower middle   \n",
              "2    (above 45 years)    a) Male          Lower middle   \n",
              "3        (30-45years)  b) Female          Lower middle   \n",
              "4    (above 45 years)    a) Male           Upper lower   \n",
              "..                ...        ...                   ...   \n",
              "198               NaN        NaN                   NaN   \n",
              "199               NaN        NaN                   NaN   \n",
              "200               NaN        NaN                   NaN   \n",
              "201               NaN        NaN                   NaN   \n",
              "202               NaN        NaN                   NaN   \n",
              "\n",
              "    Dietary diversity score  KAP Score  Unnamed: 5  Unnamed: 6  Unnamed: 7  \n",
              "0    High dietary diversity       40.0         NaN         NaN         NaN  \n",
              "1    High dietary diversity       32.0         NaN         NaN         NaN  \n",
              "2    High dietary diversity       33.0         NaN         NaN         NaN  \n",
              "3    High dietary diversity       30.0         NaN         NaN         NaN  \n",
              "4    High dietary diversity       29.0         NaN         NaN         NaN  \n",
              "..                      ...        ...         ...         ...         ...  \n",
              "198                     NaN        NaN         NaN         NaN         NaN  \n",
              "199                     NaN        NaN         NaN         NaN         NaN  \n",
              "200                     NaN        NaN         NaN         NaN         NaN  \n",
              "201                     NaN        NaN         NaN         NaN         NaN  \n",
              "202                     NaN        NaN         NaN         NaN         NaN  \n",
              "\n",
              "[203 rows x 8 columns]"
            ],
            "text/html": [
              "\n",
              "  <div id=\"df-f07566d6-a708-475d-901b-49072dbeb07b\">\n",
              "    <div class=\"colab-df-container\">\n",
              "      <div>\n",
              "<style scoped>\n",
              "    .dataframe tbody tr th:only-of-type {\n",
              "        vertical-align: middle;\n",
              "    }\n",
              "\n",
              "    .dataframe tbody tr th {\n",
              "        vertical-align: top;\n",
              "    }\n",
              "\n",
              "    .dataframe thead th {\n",
              "        text-align: right;\n",
              "    }\n",
              "</style>\n",
              "<table border=\"1\" class=\"dataframe\">\n",
              "  <thead>\n",
              "    <tr style=\"text-align: right;\">\n",
              "      <th></th>\n",
              "      <th>Age in years</th>\n",
              "      <th>Gender</th>\n",
              "      <th>Socio economic status</th>\n",
              "      <th>Dietary diversity score</th>\n",
              "      <th>KAP Score</th>\n",
              "      <th>Unnamed: 5</th>\n",
              "      <th>Unnamed: 6</th>\n",
              "      <th>Unnamed: 7</th>\n",
              "    </tr>\n",
              "  </thead>\n",
              "  <tbody>\n",
              "    <tr>\n",
              "      <th>0</th>\n",
              "      <td>(upto 30 years)</td>\n",
              "      <td>a) Male</td>\n",
              "      <td>Upper middle</td>\n",
              "      <td>High dietary diversity</td>\n",
              "      <td>40.0</td>\n",
              "      <td>NaN</td>\n",
              "      <td>NaN</td>\n",
              "      <td>NaN</td>\n",
              "    </tr>\n",
              "    <tr>\n",
              "      <th>1</th>\n",
              "      <td>(30-45years)</td>\n",
              "      <td>a) Male</td>\n",
              "      <td>Lower middle</td>\n",
              "      <td>High dietary diversity</td>\n",
              "      <td>32.0</td>\n",
              "      <td>NaN</td>\n",
              "      <td>NaN</td>\n",
              "      <td>NaN</td>\n",
              "    </tr>\n",
              "    <tr>\n",
              "      <th>2</th>\n",
              "      <td>(above 45 years)</td>\n",
              "      <td>a) Male</td>\n",
              "      <td>Lower middle</td>\n",
              "      <td>High dietary diversity</td>\n",
              "      <td>33.0</td>\n",
              "      <td>NaN</td>\n",
              "      <td>NaN</td>\n",
              "      <td>NaN</td>\n",
              "    </tr>\n",
              "    <tr>\n",
              "      <th>3</th>\n",
              "      <td>(30-45years)</td>\n",
              "      <td>b) Female</td>\n",
              "      <td>Lower middle</td>\n",
              "      <td>High dietary diversity</td>\n",
              "      <td>30.0</td>\n",
              "      <td>NaN</td>\n",
              "      <td>NaN</td>\n",
              "      <td>NaN</td>\n",
              "    </tr>\n",
              "    <tr>\n",
              "      <th>4</th>\n",
              "      <td>(above 45 years)</td>\n",
              "      <td>a) Male</td>\n",
              "      <td>Upper lower</td>\n",
              "      <td>High dietary diversity</td>\n",
              "      <td>29.0</td>\n",
              "      <td>NaN</td>\n",
              "      <td>NaN</td>\n",
              "      <td>NaN</td>\n",
              "    </tr>\n",
              "    <tr>\n",
              "      <th>...</th>\n",
              "      <td>...</td>\n",
              "      <td>...</td>\n",
              "      <td>...</td>\n",
              "      <td>...</td>\n",
              "      <td>...</td>\n",
              "      <td>...</td>\n",
              "      <td>...</td>\n",
              "      <td>...</td>\n",
              "    </tr>\n",
              "    <tr>\n",
              "      <th>198</th>\n",
              "      <td>NaN</td>\n",
              "      <td>NaN</td>\n",
              "      <td>NaN</td>\n",
              "      <td>NaN</td>\n",
              "      <td>NaN</td>\n",
              "      <td>NaN</td>\n",
              "      <td>NaN</td>\n",
              "      <td>NaN</td>\n",
              "    </tr>\n",
              "    <tr>\n",
              "      <th>199</th>\n",
              "      <td>NaN</td>\n",
              "      <td>NaN</td>\n",
              "      <td>NaN</td>\n",
              "      <td>NaN</td>\n",
              "      <td>NaN</td>\n",
              "      <td>NaN</td>\n",
              "      <td>NaN</td>\n",
              "      <td>NaN</td>\n",
              "    </tr>\n",
              "    <tr>\n",
              "      <th>200</th>\n",
              "      <td>NaN</td>\n",
              "      <td>NaN</td>\n",
              "      <td>NaN</td>\n",
              "      <td>NaN</td>\n",
              "      <td>NaN</td>\n",
              "      <td>NaN</td>\n",
              "      <td>NaN</td>\n",
              "      <td>NaN</td>\n",
              "    </tr>\n",
              "    <tr>\n",
              "      <th>201</th>\n",
              "      <td>NaN</td>\n",
              "      <td>NaN</td>\n",
              "      <td>NaN</td>\n",
              "      <td>NaN</td>\n",
              "      <td>NaN</td>\n",
              "      <td>NaN</td>\n",
              "      <td>NaN</td>\n",
              "      <td>NaN</td>\n",
              "    </tr>\n",
              "    <tr>\n",
              "      <th>202</th>\n",
              "      <td>NaN</td>\n",
              "      <td>NaN</td>\n",
              "      <td>NaN</td>\n",
              "      <td>NaN</td>\n",
              "      <td>NaN</td>\n",
              "      <td>NaN</td>\n",
              "      <td>NaN</td>\n",
              "      <td>NaN</td>\n",
              "    </tr>\n",
              "  </tbody>\n",
              "</table>\n",
              "<p>203 rows × 8 columns</p>\n",
              "</div>\n",
              "      <button class=\"colab-df-convert\" onclick=\"convertToInteractive('df-f07566d6-a708-475d-901b-49072dbeb07b')\"\n",
              "              title=\"Convert this dataframe to an interactive table.\"\n",
              "              style=\"display:none;\">\n",
              "        \n",
              "  <svg xmlns=\"http://www.w3.org/2000/svg\" height=\"24px\"viewBox=\"0 0 24 24\"\n",
              "       width=\"24px\">\n",
              "    <path d=\"M0 0h24v24H0V0z\" fill=\"none\"/>\n",
              "    <path d=\"M18.56 5.44l.94 2.06.94-2.06 2.06-.94-2.06-.94-.94-2.06-.94 2.06-2.06.94zm-11 1L8.5 8.5l.94-2.06 2.06-.94-2.06-.94L8.5 2.5l-.94 2.06-2.06.94zm10 10l.94 2.06.94-2.06 2.06-.94-2.06-.94-.94-2.06-.94 2.06-2.06.94z\"/><path d=\"M17.41 7.96l-1.37-1.37c-.4-.4-.92-.59-1.43-.59-.52 0-1.04.2-1.43.59L10.3 9.45l-7.72 7.72c-.78.78-.78 2.05 0 2.83L4 21.41c.39.39.9.59 1.41.59.51 0 1.02-.2 1.41-.59l7.78-7.78 2.81-2.81c.8-.78.8-2.07 0-2.86zM5.41 20L4 18.59l7.72-7.72 1.47 1.35L5.41 20z\"/>\n",
              "  </svg>\n",
              "      </button>\n",
              "      \n",
              "  <style>\n",
              "    .colab-df-container {\n",
              "      display:flex;\n",
              "      flex-wrap:wrap;\n",
              "      gap: 12px;\n",
              "    }\n",
              "\n",
              "    .colab-df-convert {\n",
              "      background-color: #E8F0FE;\n",
              "      border: none;\n",
              "      border-radius: 50%;\n",
              "      cursor: pointer;\n",
              "      display: none;\n",
              "      fill: #1967D2;\n",
              "      height: 32px;\n",
              "      padding: 0 0 0 0;\n",
              "      width: 32px;\n",
              "    }\n",
              "\n",
              "    .colab-df-convert:hover {\n",
              "      background-color: #E2EBFA;\n",
              "      box-shadow: 0px 1px 2px rgba(60, 64, 67, 0.3), 0px 1px 3px 1px rgba(60, 64, 67, 0.15);\n",
              "      fill: #174EA6;\n",
              "    }\n",
              "\n",
              "    [theme=dark] .colab-df-convert {\n",
              "      background-color: #3B4455;\n",
              "      fill: #D2E3FC;\n",
              "    }\n",
              "\n",
              "    [theme=dark] .colab-df-convert:hover {\n",
              "      background-color: #434B5C;\n",
              "      box-shadow: 0px 1px 3px 1px rgba(0, 0, 0, 0.15);\n",
              "      filter: drop-shadow(0px 1px 2px rgba(0, 0, 0, 0.3));\n",
              "      fill: #FFFFFF;\n",
              "    }\n",
              "  </style>\n",
              "\n",
              "      <script>\n",
              "        const buttonEl =\n",
              "          document.querySelector('#df-f07566d6-a708-475d-901b-49072dbeb07b button.colab-df-convert');\n",
              "        buttonEl.style.display =\n",
              "          google.colab.kernel.accessAllowed ? 'block' : 'none';\n",
              "\n",
              "        async function convertToInteractive(key) {\n",
              "          const element = document.querySelector('#df-f07566d6-a708-475d-901b-49072dbeb07b');\n",
              "          const dataTable =\n",
              "            await google.colab.kernel.invokeFunction('convertToInteractive',\n",
              "                                                     [key], {});\n",
              "          if (!dataTable) return;\n",
              "\n",
              "          const docLinkHtml = 'Like what you see? Visit the ' +\n",
              "            '<a target=\"_blank\" href=https://colab.research.google.com/notebooks/data_table.ipynb>data table notebook</a>'\n",
              "            + ' to learn more about interactive tables.';\n",
              "          element.innerHTML = '';\n",
              "          dataTable['output_type'] = 'display_data';\n",
              "          await google.colab.output.renderOutput(dataTable, element);\n",
              "          const docLink = document.createElement('div');\n",
              "          docLink.innerHTML = docLinkHtml;\n",
              "          element.appendChild(docLink);\n",
              "        }\n",
              "      </script>\n",
              "    </div>\n",
              "  </div>\n",
              "  "
            ]
          },
          "metadata": {},
          "execution_count": 123
        }
      ]
    },
    {
      "cell_type": "code",
      "source": [
        "df.info()"
      ],
      "metadata": {
        "colab": {
          "base_uri": "https://localhost:8080/"
        },
        "id": "Qz7EVF-JR4o8",
        "outputId": "32ea33ac-425b-4cc4-d6b3-318b9553ac82"
      },
      "execution_count": 124,
      "outputs": [
        {
          "output_type": "stream",
          "name": "stdout",
          "text": [
            "<class 'pandas.core.frame.DataFrame'>\n",
            "RangeIndex: 203 entries, 0 to 202\n",
            "Data columns (total 8 columns):\n",
            " #   Column                   Non-Null Count  Dtype  \n",
            "---  ------                   --------------  -----  \n",
            " 0   Age in years             100 non-null    object \n",
            " 1   Gender                   100 non-null    object \n",
            " 2   Socio economic status    100 non-null    object \n",
            " 3   Dietary diversity score  100 non-null    object \n",
            " 4   KAP Score                100 non-null    float64\n",
            " 5   Unnamed: 5               0 non-null      float64\n",
            " 6   Unnamed: 6               0 non-null      float64\n",
            " 7   Unnamed: 7               1 non-null      float64\n",
            "dtypes: float64(4), object(4)\n",
            "memory usage: 12.8+ KB\n"
          ]
        }
      ]
    },
    {
      "cell_type": "code",
      "source": [
        "import pandas as pd\n",
        "from scipy.stats import f_oneway\n",
        "\n",
        "\n",
        "\n",
        "# Separate the values by group\n",
        "group_a = df[df['Age in years'] == '(upto 30 years)']['KAP Score']\n",
        "group_b = df[df['Age in years'] == '(30-45years)']['KAP Score']\n",
        "group_c = df[df['Age in years'] == '(above 45 years)']['KAP Score']\n",
        "\n",
        "# Perform the ANOVA test\n",
        "f_value, p_value = f_oneway(group_a, group_b, group_c)\n",
        "print(\"F-value:\", f_value)\n",
        "print(\"p-value:\", p_value)\n",
        "alpha = 0.05  # significance level\n",
        "\n",
        "if p_value < alpha:\n",
        "    print(\"Reject the null hypothesis\")\n",
        "else:\n",
        "    print(\"Fail to reject the null hypothesis\")\n",
        "\n",
        "# You can also print the F-statistic and p-value\n",
        "print(\"F-statistic:\", f_value)\n",
        "print(\"p-value:\", p_value)"
      ],
      "metadata": {
        "colab": {
          "base_uri": "https://localhost:8080/"
        },
        "id": "SaBz8zgC4v82",
        "outputId": "7e8da0c3-b446-4d88-9973-f2cbf52d4506"
      },
      "execution_count": 125,
      "outputs": [
        {
          "output_type": "stream",
          "name": "stdout",
          "text": [
            "F-value: 0.691514379904144\n",
            "p-value: 0.5032941232331487\n",
            "Fail to reject the null hypothesis\n",
            "F-statistic: 0.691514379904144\n",
            "p-value: 0.5032941232331487\n"
          ]
        }
      ]
    },
    {
      "cell_type": "code",
      "source": [
        "t_statistic, p_value = stats.ttest_ind(group_a, group_b)\n",
        "alpha = 0.05  # significance level\n",
        "\n",
        "if p_value < alpha:\n",
        "    print(\"Reject the null hypothesis\")\n",
        "else:\n",
        "    print(\"Fail to reject the null hypothesis\")\n",
        "\n",
        "# You can also print the t-statistic and p-value\n",
        "print(\"t-statistic:\", t_statistic)\n",
        "print(\"p-value:\", p_value)"
      ],
      "metadata": {
        "colab": {
          "base_uri": "https://localhost:8080/"
        },
        "id": "Fvp9xRhEDnaB",
        "outputId": "9513eb46-72b8-4168-cca8-d335b4487544"
      },
      "execution_count": 136,
      "outputs": [
        {
          "output_type": "stream",
          "name": "stdout",
          "text": [
            "Fail to reject the null hypothesis\n",
            "t-statistic: -0.8436919231275145\n",
            "p-value: 0.40198405553016936\n"
          ]
        }
      ]
    },
    {
      "cell_type": "code",
      "source": [
        "# Fit linear regression model\n",
        "model = sm.OLS(df['KAP Score'], sm.add_constant(pd.get_dummies(df['Age in years']))).fit()\n",
        "\n",
        "# Get the regression coefficients and p-values\n",
        "coefficients = model.params[1:]\n",
        "p_values = model.pvalues[1:]\n",
        "\n",
        "# Interpret the results\n",
        "alpha = 0.05  # significance level\n",
        "\n",
        "significant_categories = p_values[p_values < alpha].index\n",
        "\n",
        "if len(significant_categories) > 0:\n",
        "    print(\"Significant relationship with categories:\", significant_categories)\n",
        "else:\n",
        "    print(\"No significant relationship with any category\")\n",
        "\n",
        "# You can also print the regression coefficients and p-values\n",
        "print(\"Coefficients:\")\n",
        "print(coefficients)\n",
        "print(\"p-values:\")\n",
        "print(p_values)"
      ],
      "metadata": {
        "colab": {
          "base_uri": "https://localhost:8080/"
        },
        "id": "HFYF-HPzGkH9",
        "outputId": "b9d4e22c-0d90-45cd-c799-bf644a816f01"
      },
      "execution_count": 137,
      "outputs": [
        {
          "output_type": "stream",
          "name": "stdout",
          "text": [
            "No significant relationship with any category\n",
            "Coefficients:\n",
            "(30-45years)        NaN\n",
            "(above 45 years)    NaN\n",
            "(above 45 years)    NaN\n",
            "(upto 30 years)     NaN\n",
            "dtype: float64\n",
            "p-values:\n",
            "(30-45years)        NaN\n",
            "(above 45 years)    NaN\n",
            "(above 45 years)    NaN\n",
            "(upto 30 years)     NaN\n",
            "dtype: float64\n"
          ]
        }
      ]
    },
    {
      "cell_type": "code",
      "source": [
        "# Separate the values by group\n",
        "group_d = df[df['Gender'] == 'a) Male']['KAP Score']\n",
        "group_e = df[df['Gender'] == 'b) Female']['KAP Score']\n",
        "\n",
        "\n",
        "# Perform the ANOVA test\n",
        "f_value, p_value = f_oneway(group_d, group_e)\n",
        "print(\"F-value:\", f_value)\n",
        "print(\"p-value:\", p_value)\n",
        "alpha = 0.05  # significance level\n",
        "\n",
        "if p_value < alpha:\n",
        "    print(\"Reject the null hypothesis\")\n",
        "else:\n",
        "    print(\"Fail to reject the null hypothesis\")\n",
        "\n",
        "# You can also print the F-statistic and p-value\n",
        "print(\"F-statistic:\", f_value)\n",
        "print(\"p-value:\", p_value)\n"
      ],
      "metadata": {
        "colab": {
          "base_uri": "https://localhost:8080/"
        },
        "id": "eJQX33ly5nS1",
        "outputId": "fc70fcf2-50ea-4366-a608-41e561cf008f"
      },
      "execution_count": 127,
      "outputs": [
        {
          "output_type": "stream",
          "name": "stdout",
          "text": [
            "F-value: 0.29726472001956383\n",
            "p-value: 0.5868410457184421\n",
            "Fail to reject the null hypothesis\n",
            "F-statistic: 0.29726472001956383\n",
            "p-value: 0.5868410457184421\n"
          ]
        }
      ]
    },
    {
      "cell_type": "code",
      "source": [
        "t_statistic, p_value = stats.ttest_ind(group_d,group_e )\n",
        "alpha = 0.05  # significance level\n",
        "\n",
        "if p_value < alpha:\n",
        "    print(\"Reject the null hypothesis\")\n",
        "else:\n",
        "    print(\"Fail to reject the null hypothesis\")\n",
        "\n",
        "# You can also print the t-statistic and p-value\n",
        "print(\"t-statistic:\", t_statistic)\n",
        "print(\"p-value:\", p_value)"
      ],
      "metadata": {
        "colab": {
          "base_uri": "https://localhost:8080/"
        },
        "id": "PPQGKDdgDTBx",
        "outputId": "92e46d88-39c8-4bb5-89b8-e19b0be0e3b3"
      },
      "execution_count": 128,
      "outputs": [
        {
          "output_type": "stream",
          "name": "stdout",
          "text": [
            "Fail to reject the null hypothesis\n",
            "t-statistic: -0.5452198822672961\n",
            "p-value: 0.5868410457184441\n"
          ]
        }
      ]
    },
    {
      "cell_type": "code",
      "source": [
        "# Fit linear regression model\n",
        "model = sm.OLS(df['KAP Score'], sm.add_constant(pd.get_dummies(df['Gender']))).fit()\n",
        "\n",
        "# Get the regression coefficients and p-values\n",
        "coefficients = model.params[1:]\n",
        "p_values = model.pvalues[1:]\n",
        "\n",
        "# Interpret the results\n",
        "alpha = 0.05  # significance level\n",
        "\n",
        "significant_categories = p_values[p_values < alpha].index\n",
        "\n",
        "if len(significant_categories) > 0:\n",
        "    print(\"Significant relationship with categories:\", significant_categories)\n",
        "else:\n",
        "    print(\"No significant relationship with any category\")\n",
        "\n",
        "# You can also print the regression coefficients and p-values\n",
        "print(\"Coefficients:\")\n",
        "print(coefficients)\n",
        "print(\"p-values:\")\n",
        "print(p_values)"
      ],
      "metadata": {
        "colab": {
          "base_uri": "https://localhost:8080/"
        },
        "id": "Lk3TZA_kHRMv",
        "outputId": "f425e550-dd08-406c-d788-8e83ccc7557e"
      },
      "execution_count": 138,
      "outputs": [
        {
          "output_type": "stream",
          "name": "stdout",
          "text": [
            "No significant relationship with any category\n",
            "Coefficients:\n",
            "a) Male     NaN\n",
            "b) Female   NaN\n",
            "dtype: float64\n",
            "p-values:\n",
            "a) Male     NaN\n",
            "b) Female   NaN\n",
            "dtype: float64\n"
          ]
        }
      ]
    },
    {
      "cell_type": "code",
      "source": [
        "# Separate the values by group\n",
        "group_f = df[df['Socio economic status'] == 'Upper middle']['KAP Score']\n",
        "group_g = df[df['Socio economic status'] == 'Lower middle']['KAP Score']\n",
        "group_h = df[df['Socio economic status'] == 'Upper lower']['KAP Score']\n",
        "group_i = df[df['Socio economic status'] == 'Lower']['KAP Score']\n",
        "# Perform the ANOVA test\n",
        "f_value, p_value = f_oneway(group_f, group_g, group_h,group_i)\n",
        "print(\"F-value:\", f_value)\n",
        "print(\"p-value:\", p_value)\n",
        "alpha = 0.05  # significance level\n",
        "\n",
        "if p_value < alpha:\n",
        "    print(\"Reject the null hypothesis\")\n",
        "else:\n",
        "    print(\"Fail to reject the null hypothesis\")\n",
        "\n",
        "# You can also print the F-statistic and p-value\n",
        "print(\"F-statistic:\", f_value)\n",
        "print(\"p-value:\", p_value)"
      ],
      "metadata": {
        "colab": {
          "base_uri": "https://localhost:8080/"
        },
        "id": "dg_0OzwT63pQ",
        "outputId": "6eaab83f-fac9-449c-a294-8f0eb301d272"
      },
      "execution_count": 129,
      "outputs": [
        {
          "output_type": "stream",
          "name": "stdout",
          "text": [
            "F-value: 77.02366147903174\n",
            "p-value: 1.8579283008746875e-25\n",
            "Reject the null hypothesis\n",
            "F-statistic: 77.02366147903174\n",
            "p-value: 1.8579283008746875e-25\n"
          ]
        }
      ]
    },
    {
      "cell_type": "code",
      "source": [
        "# Fit linear regression model\n",
        "model = sm.OLS(df['KAP Score'], sm.add_constant(pd.get_dummies(df['Socio economic status']))).fit()\n",
        "\n",
        "# Get the regression coefficients and p-values\n",
        "coefficients = model.params[1:]\n",
        "p_values = model.pvalues[1:]\n",
        "\n",
        "# Interpret the results\n",
        "alpha = 0.05  # significance level\n",
        "\n",
        "significant_categories = p_values[p_values < alpha].index\n",
        "\n",
        "if len(significant_categories) > 0:\n",
        "    print(\"Significant relationship with categories:\", significant_categories)\n",
        "else:\n",
        "    print(\"No significant relationship with any category\")\n",
        "\n",
        "# You can also print the regression coefficients and p-values\n",
        "print(\"Coefficients:\")\n",
        "print(coefficients)\n",
        "print(\"p-values:\")\n",
        "print(p_values)"
      ],
      "metadata": {
        "colab": {
          "base_uri": "https://localhost:8080/"
        },
        "id": "YZN22tj9QySx",
        "outputId": "b4b42c9b-3bd2-4bf2-f7ba-c60327885226"
      },
      "execution_count": 140,
      "outputs": [
        {
          "output_type": "stream",
          "name": "stdout",
          "text": [
            "No significant relationship with any category\n",
            "Coefficients:\n",
            "Lower          NaN\n",
            "Lower middle   NaN\n",
            "Upper lower    NaN\n",
            "Upper middle   NaN\n",
            "dtype: float64\n",
            "p-values:\n",
            "Lower          NaN\n",
            "Lower middle   NaN\n",
            "Upper lower    NaN\n",
            "Upper middle   NaN\n",
            "dtype: float64\n"
          ]
        }
      ]
    },
    {
      "cell_type": "code",
      "source": [
        "t_statistic, p_value = stats.ttest_ind(group_f, group_g)\n",
        "alpha = 0.05  # significance level\n",
        "\n",
        "if p_value < alpha:\n",
        "    print(\"Reject the null hypothesis\")\n",
        "else:\n",
        "    print(\"Fail to reject the null hypothesis\")\n",
        "\n",
        "# You can also print the t-statistic and p-value\n",
        "print(\"t-statistic:\", t_statistic)\n",
        "print(\"p-value:\", p_value)"
      ],
      "metadata": {
        "colab": {
          "base_uri": "https://localhost:8080/"
        },
        "id": "05S6rTfHCrEG",
        "outputId": "9d9fbaa4-a4dd-4faf-cb08-5e1083da340c"
      },
      "execution_count": 134,
      "outputs": [
        {
          "output_type": "stream",
          "name": "stdout",
          "text": [
            "Reject the null hypothesis\n",
            "t-statistic: 3.11770186074273\n",
            "p-value: 0.004542872826205644\n"
          ]
        }
      ]
    },
    {
      "cell_type": "code",
      "source": [
        "# Separate the values by group\n",
        "group_j = df[df['Dietary diversity score'] == 'High dietary diversity']['KAP Score']\n",
        "group_k = df[df['Dietary diversity score'] == 'Medium dietary diversity']['KAP Score']\n",
        "\n",
        "\n",
        "# Perform the ANOVA test\n",
        "f_value, p_value = f_oneway(group_j, group_k)\n",
        "print(\"F-value:\", f_value)\n",
        "print(\"p-value:\", p_value)\n",
        "alpha = 0.05  # significance level\n",
        "\n",
        "if p_value < alpha:\n",
        "    print(\"Reject the null hypothesis\")\n",
        "else:\n",
        "    print(\"Fail to reject the null hypothesis\")\n",
        "\n",
        "# You can also print the F-statistic and p-value\n",
        "print(\"F-statistic:\", f_value)\n",
        "print(\"p-value:\", p_value)\n",
        "\n"
      ],
      "metadata": {
        "colab": {
          "base_uri": "https://localhost:8080/"
        },
        "id": "fRfzGgZX8HXS",
        "outputId": "c9c62dc2-7970-4032-ff09-fd3ddec7c957"
      },
      "execution_count": 131,
      "outputs": [
        {
          "output_type": "stream",
          "name": "stdout",
          "text": [
            "F-value: 85.93871483524113\n",
            "p-value: 4.642300571641915e-15\n",
            "Reject the null hypothesis\n",
            "F-statistic: 85.93871483524113\n",
            "p-value: 4.642300571641915e-15\n"
          ]
        }
      ]
    },
    {
      "cell_type": "code",
      "source": [
        "t_statistic, p_value = stats.ttest_ind(group_j,group_k )\n",
        "alpha = 0.05  # significance level\n",
        "\n",
        "if p_value < alpha:\n",
        "    print(\"Reject the null hypothesis\")\n",
        "else:\n",
        "    print(\"Fail to reject the null hypothesis\")\n",
        "\n",
        "# You can also print the t-statistic and p-value\n",
        "print(\"t-statistic:\", t_statistic)\n",
        "print(\"p-value:\", p_value)"
      ],
      "metadata": {
        "colab": {
          "base_uri": "https://localhost:8080/"
        },
        "id": "WywuiiQkChBG",
        "outputId": "f27f6722-30a0-4776-b396-f7f2ad25bc7b"
      },
      "execution_count": 132,
      "outputs": [
        {
          "output_type": "stream",
          "name": "stdout",
          "text": [
            "Reject the null hypothesis\n",
            "t-statistic: 9.27031363197822\n",
            "p-value: 4.6423005716417714e-15\n"
          ]
        }
      ]
    }
  ]
}