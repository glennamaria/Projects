{
  "nbformat": 4,
  "nbformat_minor": 0,
  "metadata": {
    "colab": {
      "provenance": [],
      "authorship_tag": "ABX9TyNlY02Y77KuxQlnZO6Dxc1p",
      "include_colab_link": true
    },
    "kernelspec": {
      "name": "python3",
      "display_name": "Python 3"
    },
    "language_info": {
      "name": "python"
    }
  },
  "cells": [
    {
      "cell_type": "markdown",
      "metadata": {
        "id": "view-in-github",
        "colab_type": "text"
      },
      "source": [
        "<a href=\"https://colab.research.google.com/github/glennamaria/Projects/blob/main/fraud.ipynb\" target=\"_parent\"><img src=\"https://colab.research.google.com/assets/colab-badge.svg\" alt=\"Open In Colab\"/></a>"
      ]
    },
    {
      "cell_type": "code",
      "execution_count": 135,
      "metadata": {
        "id": "o7jBg_rwXhOC"
      },
      "outputs": [],
      "source": [
        "import pandas as pd"
      ]
    },
    {
      "cell_type": "code",
      "source": [
        "from google.colab import drive\n",
        "drive.mount('/content/drive')"
      ],
      "metadata": {
        "colab": {
          "base_uri": "https://localhost:8080/"
        },
        "id": "YsH8V8DzXjBU",
        "outputId": "e4ec30e8-1f7f-468c-96b9-87f4ba7036f4"
      },
      "execution_count": 136,
      "outputs": [
        {
          "output_type": "stream",
          "name": "stdout",
          "text": [
            "Drive already mounted at /content/drive; to attempt to forcibly remount, call drive.mount(\"/content/drive\", force_remount=True).\n"
          ]
        }
      ]
    },
    {
      "cell_type": "code",
      "source": [
        "path=\"/content/drive/MyDrive/Project.csv\"\n",
        "df= pd.read_csv(path)\n",
        "df"
      ],
      "metadata": {
        "id": "S4NFh67UXlpI"
      },
      "execution_count": null,
      "outputs": []
    },
    {
      "cell_type": "code",
      "source": [
        "import pandas as pd\n",
        "import numpy as np\n",
        "import matplotlib.pyplot as plt\n",
        "import seaborn as sns\n",
        "\n",
        "# Display first few rows\n",
        "df.head()\n"
      ],
      "metadata": {
        "id": "tq-h_9HWXzEB"
      },
      "execution_count": null,
      "outputs": []
    },
    {
      "cell_type": "code",
      "source": [
        "import pandas as pd\n",
        "import numpy as np\n",
        "import seaborn as sns\n",
        "import matplotlib.pyplot as plt\n",
        "import missingno as msno\n"
      ],
      "metadata": {
        "id": "ZJP6AWJ2puiS"
      },
      "execution_count": null,
      "outputs": []
    },
    {
      "cell_type": "code",
      "source": [
        "print(\"\\nDataset Summary:\\n\", df.describe())"
      ],
      "metadata": {
        "id": "R9fBWUmmpygS"
      },
      "execution_count": null,
      "outputs": []
    },
    {
      "cell_type": "code",
      "source": [
        "print(\"\\nMissing Values:\\n\", df.isnull().sum())"
      ],
      "metadata": {
        "id": "5bJOSRU_p5IK"
      },
      "execution_count": null,
      "outputs": []
    },
    {
      "cell_type": "code",
      "source": [
        "plt.figure(figsize=(6, 4))\n",
        "sns.countplot(x='isFraud', data=df, palette=['green', 'red'])\n",
        "plt.title(\"Fraud vs Non-Fraud Transactions\")\n",
        "plt.xlabel(\"Transaction Type (0: Non-Fraud, 1: Fraud)\")\n",
        "plt.ylabel(\"Count\")\n",
        "plt.show()\n"
      ],
      "metadata": {
        "id": "9xRHLBuvp8Cp"
      },
      "execution_count": null,
      "outputs": []
    },
    {
      "cell_type": "code",
      "source": [
        "plt.figure(figsize=(8, 5))\n",
        "sns.countplot(x='type', data=df, order=df['type'].value_counts().index, palette=\"coolwarm\")\n",
        "plt.title(\"Transaction Type Distribution\")\n",
        "plt.xlabel(\"Transaction Type\")\n",
        "plt.ylabel(\"Count\")\n",
        "plt.show()\n"
      ],
      "metadata": {
        "id": "h_gQ8L4Lp_uO"
      },
      "execution_count": null,
      "outputs": []
    },
    {
      "cell_type": "code",
      "source": [
        "df['type'] = df['type'].astype('category').cat.codes  # Convert CASH-IN, CASH-OUT, etc. into numeric"
      ],
      "metadata": {
        "id": "9pUxIPwdqE49"
      },
      "execution_count": null,
      "outputs": []
    },
    {
      "cell_type": "code",
      "source": [
        "plt.figure(figsize=(8, 5))\n",
        "sns.boxplot(x='isFraud', y='amount', data=df, palette=['green', 'red'])\n",
        "plt.title(\"Transaction Amount Distribution (Fraud vs Non-Fraud)\")\n",
        "plt.xlabel(\"Transaction Type\")\n",
        "plt.ylabel(\"Transaction Amount\")\n",
        "plt.yscale(\"log\")  # Log scale for better visualization\n",
        "plt.show()\n"
      ],
      "metadata": {
        "id": "6Q9QEo77qS4v"
      },
      "execution_count": null,
      "outputs": []
    },
    {
      "cell_type": "code",
      "source": [
        "plt.figure(figsize=(8, 5))\n",
        "sns.histplot(df['amount'], bins=50, kde=True, color='purple')\n",
        "plt.title(\"Transaction Amount Distribution\")\n",
        "plt.xlabel(\"Amount\")\n",
        "plt.ylabel(\"Frequency\")\n",
        "plt.xscale(\"log\")  # Log scale to handle large values\n",
        "plt.show()\n",
        "\n"
      ],
      "metadata": {
        "id": "O4iSPdt8qWBn"
      },
      "execution_count": null,
      "outputs": []
    },
    {
      "cell_type": "code",
      "source": [
        "plt.figure(figsize=(10, 5))\n",
        "sns.histplot(df[df['isFraud'] == 1]['step'], bins=50, kde=True, color='red', label=\"Fraudulent\")\n",
        "sns.histplot(df[df['isFraud'] == 0]['step'], bins=50, kde=True, color='blue', label=\"Non-Fraudulent\")\n",
        "plt.title(\"Fraudulent Transactions Over Time (Step)\")\n",
        "plt.xlabel(\"Time Step\")\n",
        "plt.ylabel(\"Frequency\")\n",
        "plt.legend()\n",
        "plt.show()\n"
      ],
      "metadata": {
        "id": "qZCowEBrqZon"
      },
      "execution_count": null,
      "outputs": []
    },
    {
      "cell_type": "code",
      "source": [
        "plt.figure(figsize=(8, 5))\n",
        "sns.scatterplot(x=df['oldbalanceOrg'], y=df['newbalanceOrig'], hue=df['isFraud'], palette=['blue', 'red'], alpha=0.5)\n",
        "plt.title(\"Old Balance vs. New Balance (Fraud vs Non-Fraud)\")\n",
        "plt.xlabel(\"Old Balance\")\n",
        "plt.ylabel(\"New Balance\")\n",
        "plt.xscale(\"log\")\n",
        "plt.yscale(\"log\")\n",
        "plt.legend(title=\"Fraud\")\n",
        "plt.show()\n"
      ],
      "metadata": {
        "id": "wITtjxcxqhYU"
      },
      "execution_count": null,
      "outputs": []
    },
    {
      "cell_type": "code",
      "source": [
        "plt.figure(figsize=(10, 6))\n",
        "sns.boxplot(x='type', y='amount', data=df[df['isFraud'] == 1], palette='coolwarm')\n",
        "plt.title(\"Fraud Amount Distribution by Transaction Type\")\n",
        "plt.xlabel(\"Transaction Type\")\n",
        "plt.ylabel(\"Amount\")\n",
        "plt.yscale(\"log\")\n",
        "plt.show()\n"
      ],
      "metadata": {
        "id": "8POYphw4qrrD"
      },
      "execution_count": null,
      "outputs": []
    },
    {
      "cell_type": "code",
      "source": [
        "import pandas as pd\n",
        "import numpy as np\n",
        "from collections import Counter\n",
        "from sklearn.model_selection import train_test_split, GridSearchCV\n",
        "from sklearn.preprocessing import StandardScaler, LabelEncoder\n",
        "from imblearn.over_sampling import SMOTE\n",
        "from imblearn.under_sampling import RandomUnderSampler\n",
        "from imblearn.combine import SMOTEENN\n",
        "from sklearn.linear_model import LogisticRegression\n",
        "from sklearn.ensemble import RandomForestClassifier\n",
        "from xgboost import XGBClassifier\n",
        "from sklearn.tree import DecisionTreeClassifier\n",
        "from sklearn.cluster import KMeans\n",
        "from sklearn.ensemble import IsolationForest\n",
        "from sklearn.metrics import accuracy_score, classification_report, confusion_matrix\n",
        "from sklearn.feature_selection import SelectKBest, f_classif\n"
      ],
      "metadata": {
        "id": "CepLi2KPqv4x"
      },
      "execution_count": null,
      "outputs": []
    },
    {
      "cell_type": "code",
      "source": [
        "df.drop(columns=['nameOrig', 'nameDest'], inplace=True)"
      ],
      "metadata": {
        "id": "qLKYs1SBq3ud"
      },
      "execution_count": null,
      "outputs": []
    },
    {
      "cell_type": "code",
      "source": [
        "encoder = LabelEncoder()\n",
        "df['type'] = encoder.fit_transform(df['type'])  # Convert CASH-IN, CASH-OUT, etc., into numeric labels\n"
      ],
      "metadata": {
        "id": "h3vWCK8Nq6L-"
      },
      "execution_count": null,
      "outputs": []
    },
    {
      "cell_type": "code",
      "source": [
        "print(\"Class Distribution Before Balancing:\", Counter(df['isFraud']))  # 0 = Non-Fraud, 1 = Fraud"
      ],
      "metadata": {
        "id": "NftEoRhqq74B"
      },
      "execution_count": null,
      "outputs": []
    },
    {
      "cell_type": "code",
      "source": [
        "# Step 5: Split dataset into features (X) and target variable (y)\n",
        "X = df.drop(columns=['isFraud', 'isFlaggedFraud'])  # Remove target and flagged fraud columns\n",
        "y = df['isFraud']  # Target (0 = Non-Fraud, 1 = Fraud)"
      ],
      "metadata": {
        "id": "3C-6853q8-em"
      },
      "execution_count": null,
      "outputs": []
    },
    {
      "cell_type": "code",
      "source": [
        "# Step 6: Feature Selection (SelectKBest to keep top features)\n",
        "selector = SelectKBest(score_func=f_classif, k=5)  # Selecting top 5 best features\n",
        "X_selected = selector.fit_transform(X, y)\n",
        "selected_features = X.columns[selector.get_support()]\n",
        "print(\"\\nSelected Features:\", list(selected_features))"
      ],
      "metadata": {
        "id": "K7PAxc3B9AG8"
      },
      "execution_count": null,
      "outputs": []
    },
    {
      "cell_type": "code",
      "source": [
        "# Step 7: Split data into training (80%) and testing (20%)\n",
        "X_train, X_test, y_train, y_test = train_test_split(X_selected, y, test_size=0.2, stratify=y, random_state=42)"
      ],
      "metadata": {
        "id": "MYt9wbY19Crg"
      },
      "execution_count": null,
      "outputs": []
    },
    {
      "cell_type": "code",
      "source": [
        "# Step 8: Balance the dataset using SMOTE (Oversampling) + Undersampling\n",
        "smote = SMOTE(sampling_strategy=0.5, random_state=42)\n",
        "X_train_sm, y_train_sm = smote.fit_resample(X_train, y_train)\n",
        "\n",
        "undersample = RandomUnderSampler(sampling_strategy=0.5, random_state=42)\n",
        "X_train_us, y_train_us = undersample.fit_resample(X_train_sm, y_train_sm)\n",
        "\n",
        "smote_enn = SMOTEENN(random_state=42)\n",
        "X_train_balanced, y_train_balanced = smote_enn.fit_resample(X_train_us, y_train_us)\n",
        "\n",
        "print(\"Class Distribution After Balancing:\", Counter(y_train_balanced))\n"
      ],
      "metadata": {
        "id": "e23Cp9WR9Idg"
      },
      "execution_count": null,
      "outputs": []
    },
    {
      "cell_type": "code",
      "source": [
        "# Step 9: Feature Scaling\n",
        "scaler = StandardScaler()\n",
        "X_train_scaled = scaler.fit_transform(X_train_balanced)\n",
        "X_test_scaled = scaler.transform(X_test)\n"
      ],
      "metadata": {
        "id": "9MpPRwMO9Kn7"
      },
      "execution_count": null,
      "outputs": []
    },
    {
      "cell_type": "code",
      "source": [
        "# Step 10: Hyperparameter Tuning using GridSearchCV\n",
        "def tune_hyperparameters(model, param_grid, model_name):\n",
        "    grid_search = GridSearchCV(model, param_grid, cv=5, scoring='accuracy', n_jobs=-1)\n",
        "    grid_search.fit(X_train_scaled, y_train_balanced)\n",
        "    print(f\"\\nBest Parameters for {model_name}: {grid_search.best_params_}\")\n",
        "    return grid_search.best_estimator_\n",
        "    # Define models and hyperparameter grids\n",
        "param_grids = {\n",
        "    \"Logistic Regression\": (LogisticRegression(), {'C': [0.1, 1, 10], 'max_iter': [100, 200]}),\n",
        "    \"Random Forest\": (RandomForestClassifier(), {'n_estimators': [50, 100, 200], 'max_depth': [5, 10, 20]}),\n",
        "    \"XGBoost\": (XGBClassifier(use_label_encoder=False, eval_metric='logloss'), {'learning_rate': [0.01, 0.1, 0.2], 'n_estimators': [50, 100]}),\n",
        "    \"Decision Tree\": (DecisionTreeClassifier(), {'max_depth': [5, 10, 20], 'criterion': ['gini', 'entropy']})\n",
        "}\n",
        "\n",
        "best_models = {}\n",
        "for model_name, (model, param_grid) in param_grids.items():\n",
        "    best_model = tune_hyperparameters(model, param_grid, model_name)\n",
        "    best_models[model_name] = best_model"
      ],
      "metadata": {
        "id": "pZZJLHa59Qg5"
      },
      "execution_count": null,
      "outputs": []
    },
    {
      "cell_type": "code",
      "source": [
        "from sklearn.metrics import accuracy_score, precision_score, recall_score, f1_score, classification_report, confusion_matrix\n",
        "\n",
        "# Step 11: Train and evaluate best models with precision, recall, and F1-score\n",
        "def train_and_evaluate_model(model, model_name):\n",
        "    model.fit(X_train_scaled, y_train_balanced)\n",
        "    y_pred = model.predict(X_test_scaled)\n",
        "\n",
        "    # Calculate evaluation metrics\n",
        "    acc = accuracy_score(y_test, y_pred)\n",
        "    precision = precision_score(y_test, y_pred)\n",
        "    recall = recall_score(y_test, y_pred)\n",
        "    f1 = f1_score(y_test, y_pred)\n",
        "\n",
        "    # Print results\n",
        "    print(f\"\\n{model_name} Model Performance:\")\n",
        "    print(f\"Accuracy: {acc:.4f}\")\n",
        "    print(f\"Precision: {precision:.4f}\")\n",
        "    print(f\"Recall: {recall:.4f}\")\n",
        "    print(f\"F1-Score: {f1:.4f}\")\n",
        "    print(f\"\\nClassification Report:\\n\", classification_report(y_test, y_pred))\n",
        "    print(f\"\\nConfusion Matrix:\\n\", confusion_matrix(y_test, y_pred))\n",
        "\n",
        "for model_name, model in best_models.items():\n",
        "    train_and_evaluate_model(model, model_name)\n"
      ],
      "metadata": {
        "id": "9A1ZYksD9VfW"
      },
      "execution_count": null,
      "outputs": []
    },
    {
      "cell_type": "code",
      "source": [
        "# Step 12: Clustering using K-Means to detect fraud patterns\n",
        "kmeans = KMeans(n_clusters=2, random_state=42)  # Assuming 2 clusters (Fraud & Non-Fraud)\n",
        "clusters = kmeans.fit_predict(X_train_scaled)\n",
        "\n",
        "df_clusters = pd.DataFrame(X_train_balanced, columns=selected_features)\n",
        "df_clusters['Cluster'] = clusters\n",
        "\n",
        "print(\"\\nClustering Distribution:\", Counter(df_clusters['Cluster']))"
      ],
      "metadata": {
        "id": "xWJ5SmsH9gTJ"
      },
      "execution_count": null,
      "outputs": []
    },
    {
      "cell_type": "code",
      "source": [
        "# Step 13: Isolation Forest for Anomaly Detection\n",
        "iso_forest = IsolationForest(contamination=0.02, random_state=42)  # 2% contamination assumption\n",
        "anomaly_scores = iso_forest.fit_predict(X_train_scaled)\n",
        "\n",
        "# Convert -1 (anomaly) to 1 (fraud) and 1 (normal) to 0 (non-fraud)\n",
        "anomalies = np.where(anomaly_scores == -1, 1, 0)\n",
        "df_clusters['Anomaly'] = anomalies\n",
        "\n",
        "print(\"\\nAnomaly Detection Results (Isolation Forest):\")\n",
        "print(\"\\nFraud Detected by Isolation Forest:\", Counter(df_clusters['Anomaly']))"
      ],
      "metadata": {
        "id": "TQP4P2gM9O2t"
      },
      "execution_count": null,
      "outputs": []
    },
    {
      "cell_type": "code",
      "source": [
        "# Step 14: Save the best model (e.g., XGBoost)\n",
        "import joblib\n",
        "joblib.dump(best_models[\"XGBoost\"], \"fraud_detection_model_xgb.pkl\")\n",
        "joblib.dump(iso_forest, \"isolation_forest_model.pkl\")\n",
        "print(\"\\nBest Model (XGBoost) saved as 'fraud_detection_model_xgb.pkl'\")\n",
        "print(\"\\nAnomaly Detection Model (Isolation Forest) saved as 'isolation_forest_model.pkl'\")"
      ],
      "metadata": {
        "id": "85AvQ3GG9FnH"
      },
      "execution_count": null,
      "outputs": []
    }
  ]
}