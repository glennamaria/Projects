{
  "nbformat": 4,
  "nbformat_minor": 0,
  "metadata": {
    "colab": {
      "provenance": [],
      "authorship_tag": "ABX9TyNXWje3P6j0BoKvXoe3sCrI",
      "include_colab_link": true
    },
    "kernelspec": {
      "name": "python3",
      "display_name": "Python 3"
    },
    "language_info": {
      "name": "python"
    }
  },
  "cells": [
    {
      "cell_type": "markdown",
      "metadata": {
        "id": "view-in-github",
        "colab_type": "text"
      },
      "source": [
        "<a href=\"https://colab.research.google.com/github/glennamaria/Projects/blob/main/Delinquency%20prediction%20and%20console.ipynb\" target=\"_parent\"><img src=\"https://colab.research.google.com/assets/colab-badge.svg\" alt=\"Open In Colab\"/></a>"
      ]
    },
    {
      "cell_type": "code",
      "execution_count": null,
      "metadata": {
        "id": "HCj6QbvH1xNy"
      },
      "outputs": [],
      "source": [
        "import pandas as pd\n",
        "import numpy as np\n",
        "from sklearn.model_selection import train_test_split\n",
        "from sklearn.preprocessing import StandardScaler, LabelEncoder\n",
        "from sklearn.ensemble import RandomForestClassifier\n",
        "from sklearn.metrics import classification_report, confusion_matrix\n",
        "from imblearn.over_sampling import SMOTE\n",
        "import joblib"
      ]
    },
    {
      "cell_type": "code",
      "source": [
        "from google.colab import drive\n",
        "import pandas as pd\n",
        "import os\n",
        "\n",
        "from google.colab import drive\n",
        "drive.mount('/content/drive')\n",
        "\n",
        "path=\"/content/drive/MyDrive/SME.csv\"\n",
        "df= pd.read_csv(path)\n",
        "df"
      ],
      "metadata": {
        "id": "G_1Zq9t72Kpt"
      },
      "execution_count": null,
      "outputs": []
    },
    {
      "cell_type": "code",
      "source": [
        "label_encoders = {}\n",
        "for column in ['Gender', 'Branch Name']:  # Encode categorical variables\n",
        "    le = LabelEncoder()\n",
        "    df[column] = le.fit_transform(df[column])\n",
        "    label_encoders[column] = le\n",
        "\n",
        "    print(\"Encoded DataFrame:\")\n",
        "print(df)\n",
        "\n",
        "# To get the encoded values for each column, you can do:\n",
        "encoded_gender = df['Gender'].unique()  # Unique encoded values for Gender\n",
        "encoded_branch = df['Branch Name'].unique()  # Unique encoded values for Branch Name\n",
        "\n",
        "print(\"\\nEncoded values for Gender:\")\n",
        "print(encoded_gender)\n",
        "\n",
        "print(\"\\nEncoded values for Branch Name:\")\n",
        "print(encoded_branch)"
      ],
      "metadata": {
        "id": "ZIMNKV1P24kp"
      },
      "execution_count": null,
      "outputs": []
    },
    {
      "cell_type": "code",
      "source": [
        "CHANDAPUR_encoded = le.transform(['CHANDAPUR'])[0]  # Returns the encoded value for 'Mysore'\n",
        "print(\"\\nEncoded value for 'CHANDAPUR':\", CHANDAPUR_encoded)"
      ],
      "metadata": {
        "id": "a6lfivSbxAwo"
      },
      "execution_count": null,
      "outputs": []
    },
    {
      "cell_type": "code",
      "source": [
        "df = df.dropna()  # Drop rows with missing values for simplicity\n",
        "\n",
        "# Define features and target\n",
        "X = df.drop('Deliquency', axis=1)  # Replace with actual target column name\n",
        "y = df['Deliquency']"
      ],
      "metadata": {
        "id": "JGNF0G4G3ffv"
      },
      "execution_count": null,
      "outputs": []
    },
    {
      "cell_type": "code",
      "source": [
        "scaler = StandardScaler()\n",
        "X_scaled = scaler.fit_transform(X)"
      ],
      "metadata": {
        "id": "uAzp_8W33ODA"
      },
      "execution_count": null,
      "outputs": []
    },
    {
      "cell_type": "code",
      "source": [
        "smote = SMOTE()\n",
        "X_resampled, y_resampled = smote.fit_resample(X_scaled, y)"
      ],
      "metadata": {
        "id": "N47hnUD83kle"
      },
      "execution_count": null,
      "outputs": []
    },
    {
      "cell_type": "code",
      "source": [
        "X_train, X_test, y_train, y_test = train_test_split(X_resampled, y_resampled, test_size=0.2, random_state=42)"
      ],
      "metadata": {
        "id": "bIhjiDip3n6z"
      },
      "execution_count": null,
      "outputs": []
    },
    {
      "cell_type": "code",
      "source": [
        "model = RandomForestClassifier(n_estimators=100, random_state=42)\n",
        "model.fit(X_train, y_train)"
      ],
      "metadata": {
        "id": "npGSvHGM3qXS"
      },
      "execution_count": null,
      "outputs": []
    },
    {
      "cell_type": "code",
      "source": [
        "y_pred = model.predict(X_test)\n",
        "print(confusion_matrix(y_test, y_pred))\n",
        "print(classification_report(y_test, y_pred))"
      ],
      "metadata": {
        "id": "3NKdL9pi3wNg"
      },
      "execution_count": null,
      "outputs": []
    },
    {
      "cell_type": "code",
      "source": [
        "joblib.dump(model, 'loan_model.pkl')\n",
        "joblib.dump(scaler, 'scaler.pkl')"
      ],
      "metadata": {
        "id": "n5Y_IWxN3zGV"
      },
      "execution_count": null,
      "outputs": []
    },
    {
      "cell_type": "code",
      "source": [
        "# Function to predict new entries\n",
        "def predict_delinquency(loan_amount, age, net_income, cibil, gender, tenure, branch_name):\n",
        "    # Load the model and scaler\n",
        "    model = joblib.load('loan_model.pkl')\n",
        "    scaler = joblib.load('scaler.pkl')\n",
        "\n",
        "    # Prepare the input data\n",
        "    data = pd.DataFrame([[loan_amount, age, net_income, cibil, gender, tenure, branch_name]],\n",
        "                        columns=['LoanAmount', 'Age', 'NetIncome', 'CIBIL', 'Gender', 'Tenure', 'Branch Name'])\n",
        "\n",
        "    # Encode categorical variables\n",
        "    categorical_columns = ['Gender', 'Branch Name'] # Define the list of categorical columns\n",
        "    for col in categorical_columns:\n",
        "        # Check if the value exists in the label encoder's classes\n",
        "        if gender not in label_encoders[col].classes_:\n",
        "            # Handle the new value (e.g., ignore or assign a default value)\n",
        "            # Here, we'll ignore for demonstration\n",
        "            continue\n",
        "        data[col] = label_encoders[col].transform(data[col])\n",
        "\n",
        "    # Standardize the features\n",
        "    data = scaler.transform(data)\n",
        "\n",
        "    # Predict the delinquency\n",
        "    prediction = model.predict(data)\n",
        "    return 'Delinquent' if prediction[0] == 1 else 'Not Delinquent'\n",
        "\n",
        "# Console application for new entries\n",
        "if __name__ == \"__main__\":\n",
        "    print(\"Loan Delinquency Prediction Console\")\n",
        "    loan_amount = float(input(\"Enter Loan Amount: \"))\n",
        "    age = float(input(\"Enter Age: \"))\n",
        "    net_income = float(input(\"Enter Net Income: \"))\n",
        "    cibil = float(input(\"Enter CIBIL Score: \"))\n",
        "    gender = input(\"Enter Gender (Male/Female): \")\n",
        "    tenure = float(input(\"Enter Tenure (in months): \"))\n",
        "    branch_name = input(\"Enter Branch Name: \")\n",
        "\n",
        "    prediction = predict_delinquency(loan_amount, age, net_income, cibil, gender, tenure, branch_name)\n",
        "    print(f\"Prediction: {prediction}\")"
      ],
      "metadata": {
        "colab": {
          "base_uri": "https://localhost:8080/"
        },
        "id": "ItMBi6Sp7EL-",
        "outputId": "bfd9d188-a4ab-42ae-bdf5-92b3952550d0"
      },
      "execution_count": null,
      "outputs": [
        {
          "name": "stdout",
          "output_type": "stream",
          "text": [
            "Loan Delinquency Prediction Console\n",
            "Enter Loan Amount: 310000\n",
            "Enter Age: 49\n",
            "Enter Net Income: 56300\n",
            "Enter CIBIL Score: 0\n",
            "Enter Gender (Male/Female): 0\n"
          ]
        }
      ]
    }
  ]
}